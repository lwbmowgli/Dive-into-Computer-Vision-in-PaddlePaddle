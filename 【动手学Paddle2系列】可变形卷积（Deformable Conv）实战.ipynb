{
 "cells": [
  {
   "cell_type": "markdown",
   "metadata": {
    "collapsed": false
   },
   "source": [
    "# 【动手学Paddle2.0系列】可变形卷积（Deformable Conv）实战\n",
    "\n",
    "\n",
    "本次教程将对MSRA出品的可变形卷积进行讲解，对DCNv1和DCNv2论文中提出的主要思想进行讲解，并对其代码实现进行讲解。最后，使用一个简单的图像分类任务对DCN进行验证。\n"
   ]
  },
  {
   "cell_type": "markdown",
   "metadata": {
    "collapsed": false
   },
   "source": [
    "## 一、可变形卷积主要思想讲解\n",
    "\n",
    "\n",
    "这里我们首先看一下我们正常使用的规整卷积和可变形卷积之间的对比图。如下图所示：\n",
    "\n",
    "\n",
    "<center><p>\n",
    "  \n",
    "  ![](https://ai-studio-static-online.cdn.bcebos.com/04980167928b428a8aa69baa4d3ded0a5a153778a31345259b35a84209709731)\n",
    " \n",
    "  \n",
    "</p></center>\n",
    "\n",
    "\n",
    "我们可以看到在理想情况下，可变形卷积能够比规整卷积学习到更加有效的图像特征。\n",
    "\n",
    "\n",
    "&emsp;&emsp;现在我们反推一下为什么这种卷积结构会比经典的卷积结构更有效？在论文中，作者给出的回答是：经典卷积神经网络的卷积结构固定，对目标建模不充分。图像不同位置的结构应当是不同的，但是却用相同结构的卷积进行计算；不管当前位置的图像是什么结构，都使用固定比例的池化层降低特征图分辨率。这种做法是不可取的，尤其是对非刚性目标。\n",
    "\n",
    "\n",
    "&emsp;&emsp;接下来，我们思考一下该如何实现这种卷积的形变，我们明确一点，在这里我们不可能真的让卷积核进行形变，那我们该如何实现呢？答案如下所示，通过给卷积的位置加一个偏移值（offset）来实现卷积的“变形”，加上该偏移量的学习之后，可变形卷积核的大小和位置能够根据图像内容进行动态调整，其直观效果就是不同位置的卷积核采样点位置会根据图像内容发生自适应变化，从而适应不同目标物体的几何形变。\n",
    "\n",
    "\n",
    "<center><p>\n",
    "  \n",
    "  ![](https://ai-studio-static-online.cdn.bcebos.com/eeafaffcf307498cbb73bf650e2b6754a3c1ff61a49146d1a70f3f834912ae77)\n",
    "  \n",
    "  \n",
    "</p></center>\n",
    "\n",
    "\n",
    "\n",
    "&emsp;&emsp;以上是[DCNv1](https://arxiv.org/abs/1703.06211)的主要思想，在之后[DCNv2](https://arxiv.org/abs/1811.11168v2)主要做了两点改进，一是在网络结构中增加了可变形卷积层的使用（Stacking More Deformable Conv Layers），二是在偏移值上又增加了一个权值(Modulated Deformable Modules)。对于DCNv1，作者发现在实际的应用中，其感受野对应位置超出了目标范围，导致特征不受图像内容影响。在DCNv2中，其主要改进点为引入了幅度调制机制，让网络学习到每一个采样点偏移量的同时也学习到这一采样点的幅度（即该特征点对应的权重。）使得网络在具备学习空间形变能力的同时具备区分采样点重要性的能力。（此改进是否为注意力机制？）\n",
    "\n",
    "<center><p>\n",
    "  \n",
    "![](https://ai-studio-static-online.cdn.bcebos.com/5335dc7be6354292bd8a4224553eb2f0ce2c6207b7864cd4961d515177b79fb2)\n",
    "\n",
    "  </p></center>"
   ]
  },
  {
   "cell_type": "markdown",
   "metadata": {
    "collapsed": false
   },
   "source": [
    "# 二、对比实验\n",
    "\n",
    "\n",
    "&emsp;&emsp;本小节将通过一个简单的网络进行图像分类任务，分别进行三个实验，其一为规则卷积、其二为DCNv1、其三为DCNv2。"
   ]
  },
  {
   "cell_type": "code",
   "execution_count": 18,
   "metadata": {
    "collapsed": false
   },
   "outputs": [
    {
     "name": "stdout",
     "output_type": "stream",
     "text": [
      "2.0.0-rc1\n"
     ]
    }
   ],
   "source": [
    "# 导入相关库\r\n",
    "\r\n",
    "import paddle\r\n",
    "import paddle.nn.functional as F\r\n",
    "from paddle.vision.transforms import ToTensor\r\n",
    "\r\n",
    "from paddle.vision.ops import DeformConv2D\r\n",
    "\r\n",
    "\r\n",
    "print(paddle.__version__)\r\n"
   ]
  },
  {
   "cell_type": "code",
   "execution_count": null,
   "metadata": {
    "collapsed": false
   },
   "outputs": [],
   "source": [
    "transform = ToTensor()\r\n",
    "cifar10_train = paddle.vision.datasets.Cifar10(mode='train',\r\n",
    "                                               transform=transform)\r\n",
    "cifar10_test = paddle.vision.datasets.Cifar10(mode='test',\r\n",
    "                                              transform=transform)\r\n",
    "\r\n",
    "# 构建训练集数据加载器\r\n",
    "train_loader = paddle.io.DataLoader(cifar10_train, batch_size=64, shuffle=True)\r\n",
    "\r\n",
    "# 构建测试集数据加载器\r\n",
    "test_loader = paddle.io.DataLoader(cifar10_test, batch_size=64, shuffle=True)"
   ]
  },
  {
   "cell_type": "markdown",
   "metadata": {
    "collapsed": false
   },
   "source": [
    "## 2.1 规则卷积\n"
   ]
  },
  {
   "cell_type": "code",
   "execution_count": null,
   "metadata": {
    "collapsed": false
   },
   "outputs": [],
   "source": [
    "#定义模型\r\n",
    "\r\n",
    "class MyNet(paddle.nn.Layer):\r\n",
    "    def __init__(self, num_classes=1):\r\n",
    "        super(MyNet, self).__init__()\r\n",
    "\r\n",
    "        self.conv1 = paddle.nn.Conv2D(in_channels=3, out_channels=32, kernel_size=(3, 3), stride=1, padding = 1)\r\n",
    "        # self.pool1 = paddle.nn.MaxPool2D(kernel_size=2, stride=2)\r\n",
    "\r\n",
    "        self.conv2 = paddle.nn.Conv2D(in_channels=32, out_channels=64, kernel_size=(3,3),  stride=2, padding = 0)\r\n",
    "        # self.pool2 = paddle.nn.MaxPool2D(kernel_size=2, stride=2)\r\n",
    "\r\n",
    "        self.conv3 = paddle.nn.Conv2D(in_channels=64, out_channels=64, kernel_size=(3,3), stride=2, padding = 0)\r\n",
    "\r\n",
    "        self.conv4 = paddle.nn.Conv2D(in_channels=64, out_channels=64, kernel_size=(3,3), stride=2, padding = 1)\r\n",
    "\r\n",
    "        self.flatten = paddle.nn.Flatten()\r\n",
    "\r\n",
    "        self.linear1 = paddle.nn.Linear(in_features=1024, out_features=64)\r\n",
    "        self.linear2 = paddle.nn.Linear(in_features=64, out_features=num_classes)\r\n",
    "\r\n",
    "    def forward(self, x):\r\n",
    "        x = self.conv1(x)\r\n",
    "        x = F.relu(x)\r\n",
    "        # x = self.pool1(x)\r\n",
    "        # print(x.shape)\r\n",
    "        x = self.conv2(x)\r\n",
    "        x = F.relu(x)\r\n",
    "        # x = self.pool2(x)\r\n",
    "        # print(x.shape)\r\n",
    "\r\n",
    "        x = self.conv3(x)\r\n",
    "        x = F.relu(x)\r\n",
    "        # print(x.shape)\r\n",
    "        \r\n",
    "        \r\n",
    "        x = self.conv4(x)\r\n",
    "        x = F.relu(x)\r\n",
    "        # print(x.shape)\r\n",
    "\r\n",
    "        x = self.flatten(x)\r\n",
    "        x = self.linear1(x)\r\n",
    "        x = F.relu(x)\r\n",
    "        x = self.linear2(x)\r\n",
    "        return x"
   ]
  },
  {
   "cell_type": "code",
   "execution_count": null,
   "metadata": {
    "collapsed": false
   },
   "outputs": [
    {
     "name": "stdout",
     "output_type": "stream",
     "text": [
      "---------------------------------------------------------------------------\n",
      " Layer (type)       Input Shape          Output Shape         Param #    \n",
      "===========================================================================\n",
      "   Conv2D-1      [[64, 3, 32, 32]]     [64, 32, 32, 32]         896      \n",
      "   Conv2D-2      [[64, 32, 32, 32]]    [64, 64, 15, 15]       18,496     \n",
      "   Conv2D-3      [[64, 64, 15, 15]]     [64, 64, 7, 7]        36,928     \n",
      "   Conv2D-4       [[64, 64, 7, 7]]      [64, 64, 4, 4]        36,928     \n",
      "   Flatten-1      [[64, 64, 4, 4]]        [64, 1024]             0       \n",
      "   Linear-1         [[64, 1024]]           [64, 64]           65,600     \n",
      "   Linear-2          [[64, 64]]            [64, 1]              65       \n",
      "===========================================================================\n",
      "Total params: 158,913\n",
      "Trainable params: 158,913\n",
      "Non-trainable params: 0\n",
      "---------------------------------------------------------------------------\n",
      "Input size (MB): 0.75\n",
      "Forward/backward pass size (MB): 25.59\n",
      "Params size (MB): 0.61\n",
      "Estimated Total Size (MB): 26.95\n",
      "---------------------------------------------------------------------------\n",
      "\n"
     ]
    },
    {
     "name": "stderr",
     "output_type": "stream",
     "text": [
      "/opt/conda/envs/python35-paddle120-env/lib/python3.7/site-packages/paddle/distributed/parallel.py:119: UserWarning: Currently not a parallel execution environment, `paddle.distributed.init_parallel_env` will not do anything.\n",
      "  \"Currently not a parallel execution environment, `paddle.distributed.init_parallel_env` will not do anything.\"\n"
     ]
    },
    {
     "data": {
      "text/plain": [
       "{'total_params': 158913, 'trainable_params': 158913}"
      ]
     },
     "execution_count": null,
     "metadata": {},
     "output_type": "execute_result"
    }
   ],
   "source": [
    "# 可视化模型\r\n",
    "\r\n",
    "cnn1 = MyNet()\r\n",
    "\r\n",
    "model1 = paddle.Model(cnn1)\r\n",
    "\r\n",
    "model1.summary((64, 3, 32, 32))"
   ]
  },
  {
   "cell_type": "code",
   "execution_count": null,
   "metadata": {
    "collapsed": false
   },
   "outputs": [
    {
     "name": "stdout",
     "output_type": "stream",
     "text": [
      "The loss value printed in the log is the current step, and the metric is the average value of previous step.\n",
      "Epoch 1/2\n"
     ]
    },
    {
     "name": "stderr",
     "output_type": "stream",
     "text": [
      "/opt/conda/envs/python35-paddle120-env/lib/python3.7/site-packages/paddle/fluid/layers/utils.py:77: DeprecationWarning: Using or importing the ABCs from 'collections' instead of from 'collections.abc' is deprecated, and in 3.8 it will stop working\n",
      "  return (isinstance(seq, collections.Sequence) and\n"
     ]
    },
    {
     "name": "stdout",
     "output_type": "stream",
     "text": [
      "step 782/782 [==============================] - loss: 0.0000e+00 - acc: 0.1000 - 39ms/step         \n",
      "Eval begin...\n",
      "The loss value printed in the log is the current batch, and the metric is the average value of previous step.\n",
      "step 157/157 [==============================] - loss: 0.0000e+00 - acc: 0.1000 - 31ms/step        \n",
      "Eval samples: 10000\n",
      "Epoch 2/2\n",
      "step 782/782 [==============================] - loss: 0.0000e+00 - acc: 0.1000 - 34ms/step        \n",
      "Eval begin...\n",
      "The loss value printed in the log is the current batch, and the metric is the average value of previous step.\n",
      "step 157/157 [==============================] - loss: 0.0000e+00 - acc: 0.1000 - 32ms/step        \n",
      "Eval samples: 10000\n"
     ]
    }
   ],
   "source": [
    "from paddle.metric import Accuracy\r\n",
    "\r\n",
    "optim = paddle.optimizer.Adam(learning_rate=0.001, parameters=model1.parameters())\r\n",
    "\r\n",
    "# 配置模型\r\n",
    "model1.prepare(\r\n",
    "    optim,\r\n",
    "    paddle.nn.CrossEntropyLoss(),\r\n",
    "    Accuracy()\r\n",
    "    )\r\n",
    "\r\n",
    "# 训练模型\r\n",
    "model1.fit(train_data=train_loader,\r\n",
    "        eval_data=test_loader,\r\n",
    "        epochs=2,\r\n",
    "        verbose=1\r\n",
    "        )\r\n"
   ]
  },
  {
   "cell_type": "markdown",
   "metadata": {
    "collapsed": false
   },
   "source": [
    "## 2.2 DCNv1\n",
    "\n",
    "\n",
    "\n",
    "相对于规则卷积，DCNv1在卷积网络中添加了一个偏移值，其过程示意如下图所示：\n",
    "\n",
    "<center><p>\n",
    "\n",
    "![](https://ai-studio-static-online.cdn.bcebos.com/4e6c20a377ea483590cc2fc4a4d0f836cf76bd3f7e464552986ac7af48b3e160)\n",
    "\n",
    "  </p></center>"
   ]
  },
  {
   "cell_type": "code",
   "execution_count": 12,
   "metadata": {
    "collapsed": false
   },
   "outputs": [],
   "source": [
    "class Dcn1(paddle.nn.Layer):\r\n",
    "    def __init__(self, num_classes=1):\r\n",
    "        super(Dcn1, self).__init__()\r\n",
    "\r\n",
    "        self.conv1 = paddle.nn.Conv2D(in_channels=3, out_channels=32, kernel_size=(3, 3), stride=1, padding = 1)\r\n",
    "        # self.pool1 = paddle.nn.MaxPool2D(kernel_size=2, stride=2)\r\n",
    "\r\n",
    "        self.conv2 = paddle.nn.Conv2D(in_channels=32, out_channels=64, kernel_size=(3,3),  stride=2, padding = 0)\r\n",
    "        # self.pool2 = paddle.nn.MaxPool2D(kernel_size=2, stride=2)\r\n",
    "\r\n",
    "        self.conv3 = paddle.nn.Conv2D(in_channels=64, out_channels=64, kernel_size=(3,3), stride=2, padding = 0)\r\n",
    "\r\n",
    "        self.offsets = paddle.nn.Conv2D(64, 18, kernel_size=3, stride=2, padding=1)\r\n",
    "        self.conv4 = DeformConv2D(in_channels=64, out_channels=64, kernel_size=(3,3), stride=2, padding = 1)\r\n",
    "\r\n",
    "        # self.conv4 = paddle.nn.Conv2D(in_channels=64, out_channels=64, kernel_size=(3,3), stride=2, padding = 1)\r\n",
    "\r\n",
    "        self.flatten = paddle.nn.Flatten()\r\n",
    "\r\n",
    "        self.linear1 = paddle.nn.Linear(in_features=1024, out_features=64)\r\n",
    "        self.linear2 = paddle.nn.Linear(in_features=64, out_features=num_classes)\r\n",
    "\r\n",
    "    def forward(self, x):\r\n",
    "        x = self.conv1(x)\r\n",
    "        x = F.relu(x)\r\n",
    "        # x = self.pool1(x)\r\n",
    "        # print(x.shape)\r\n",
    "        x = self.conv2(x)\r\n",
    "        x = F.relu(x)\r\n",
    "        # x = self.pool2(x)\r\n",
    "        # print(x.shape)\r\n",
    "\r\n",
    "        x = self.conv3(x)\r\n",
    "        x = F.relu(x)\r\n",
    "        # print(x.shape)\r\n",
    "        \r\n",
    "        offsets = self.offsets(x)\r\n",
    "        # print(offsets.shape)\r\n",
    "        x = self.conv4(x, offsets)\r\n",
    "        x = F.relu(x)\r\n",
    "        # print(x.shape)\r\n",
    "\r\n",
    "        x = self.flatten(x)\r\n",
    "        x = self.linear1(x)\r\n",
    "        x = F.relu(x)\r\n",
    "        x = self.linear2(x)\r\n",
    "        return x"
   ]
  },
  {
   "cell_type": "code",
   "execution_count": 13,
   "metadata": {
    "collapsed": false
   },
   "outputs": [
    {
     "name": "stdout",
     "output_type": "stream",
     "text": [
      "---------------------------------------------------------------------------------------\n",
      " Layer (type)             Input Shape                Output Shape         Param #    \n",
      "=======================================================================================\n",
      "   Conv2D-9            [[64, 3, 32, 32]]           [64, 32, 32, 32]         896      \n",
      "   Conv2D-10           [[64, 32, 32, 32]]          [64, 64, 15, 15]       18,496     \n",
      "   Conv2D-11           [[64, 64, 15, 15]]           [64, 64, 7, 7]        36,928     \n",
      "   Conv2D-12            [[64, 64, 7, 7]]            [64, 18, 4, 4]        10,386     \n",
      "DeformConv2D-2  [[64, 64, 7, 7], [64, 18, 4, 4]]    [64, 64, 4, 4]        36,928     \n",
      " Flatten-1975           [[64, 64, 4, 4]]              [64, 1024]             0       \n",
      "   Linear-5               [[64, 1024]]                 [64, 64]           65,600     \n",
      "   Linear-6                [[64, 64]]                  [64, 1]              65       \n",
      "=======================================================================================\n",
      "Total params: 169,299\n",
      "Trainable params: 169,299\n",
      "Non-trainable params: 0\n",
      "---------------------------------------------------------------------------------------\n",
      "Input size (MB): 0.75\n",
      "Forward/backward pass size (MB): 25.73\n",
      "Params size (MB): 0.65\n",
      "Estimated Total Size (MB): 27.13\n",
      "---------------------------------------------------------------------------------------\n",
      "\n"
     ]
    },
    {
     "name": "stderr",
     "output_type": "stream",
     "text": [
      "/opt/conda/envs/python35-paddle120-env/lib/python3.7/site-packages/paddle/distributed/parallel.py:119: UserWarning: Currently not a parallel execution environment, `paddle.distributed.init_parallel_env` will not do anything.\n",
      "  \"Currently not a parallel execution environment, `paddle.distributed.init_parallel_env` will not do anything.\"\n"
     ]
    },
    {
     "data": {
      "text/plain": [
       "{'total_params': 169299, 'trainable_params': 169299}"
      ]
     },
     "execution_count": 13,
     "metadata": {},
     "output_type": "execute_result"
    }
   ],
   "source": [
    "# 可视化模型\r\n",
    "\r\n",
    "cnn2 = Dcn1()\r\n",
    "\r\n",
    "model2 = paddle.Model(cnn2)\r\n",
    "\r\n",
    "model2.summary((64, 3, 32, 32))"
   ]
  },
  {
   "cell_type": "code",
   "execution_count": 14,
   "metadata": {
    "collapsed": false
   },
   "outputs": [
    {
     "name": "stdout",
     "output_type": "stream",
     "text": [
      "The loss value printed in the log is the current step, and the metric is the average value of previous step.\n",
      "Epoch 1/2\n",
      "step 782/782 [==============================] - loss: 0.0000e+00 - acc: 0.1000 - 51ms/step        \n",
      "Eval begin...\n",
      "The loss value printed in the log is the current batch, and the metric is the average value of previous step.\n",
      "step 157/157 [==============================] - loss: 0.0000e+00 - acc: 0.1000 - 33ms/step        \n",
      "Eval samples: 10000\n",
      "Epoch 2/2\n",
      "step 782/782 [==============================] - loss: 0.0000e+00 - acc: 0.1000 - 39ms/step         \n",
      "Eval begin...\n",
      "The loss value printed in the log is the current batch, and the metric is the average value of previous step.\n",
      "step 157/157 [==============================] - loss: 0.0000e+00 - acc: 0.1000 - 44ms/step        \n",
      "Eval samples: 10000\n"
     ]
    }
   ],
   "source": [
    "from paddle.metric import Accuracy\r\n",
    "\r\n",
    "optim = paddle.optimizer.Adam(learning_rate=0.001, parameters=model2.parameters())\r\n",
    "\r\n",
    "# 配置模型\r\n",
    "model2.prepare(\r\n",
    "    optim,\r\n",
    "    paddle.nn.CrossEntropyLoss(),\r\n",
    "    Accuracy()\r\n",
    "    )\r\n",
    "\r\n",
    "# 训练模型\r\n",
    "model2.fit(train_data=train_loader,\r\n",
    "        eval_data=test_loader,\r\n",
    "        epochs=2,\r\n",
    "        verbose=1\r\n",
    "        )"
   ]
  },
  {
   "cell_type": "markdown",
   "metadata": {
    "collapsed": false
   },
   "source": [
    "## 2.3 DCNv2\n",
    "\n",
    "\n",
    "\n",
    "大家可以看到，对比DCNv1，DCNv2增加了一个mask参数，此参数用来调整对于特征的权重，即对特征的关注程度。"
   ]
  },
  {
   "cell_type": "code",
   "execution_count": 15,
   "metadata": {
    "collapsed": false
   },
   "outputs": [],
   "source": [
    "class dcn2(paddle.nn.Layer):\r\n",
    "    def __init__(self, num_classes=1):\r\n",
    "        super(dcn2, self).__init__()\r\n",
    "\r\n",
    "        self.conv1 = paddle.nn.Conv2D(in_channels=3, out_channels=32, kernel_size=(3, 3), stride=1, padding = 1)\r\n",
    "        # self.pool1 = paddle.nn.MaxPool2D(kernel_size=2, stride=2)\r\n",
    "\r\n",
    "        self.conv2 = paddle.nn.Conv2D(in_channels=32, out_channels=64, kernel_size=(3,3),  stride=2, padding = 0)\r\n",
    "        # self.pool2 = paddle.nn.MaxPool2D(kernel_size=2, stride=2)\r\n",
    "\r\n",
    "        self.conv3 = paddle.nn.Conv2D(in_channels=64, out_channels=64, kernel_size=(3,3), stride=2, padding = 0)\r\n",
    "\r\n",
    "        self.offsets = paddle.nn.Conv2D(64, 18, kernel_size=3, stride=2, padding=1)\r\n",
    "        self.mask = paddle.nn.Conv2D(64, 9, kernel_size=3, stride=2, padding=1)\r\n",
    "        self.conv4 = DeformConv2D(in_channels=64, out_channels=64, kernel_size=(3,3), stride=2, padding = 1)\r\n",
    "\r\n",
    "        # self.conv4 = paddle.nn.Conv2D(in_channels=64, out_channels=64, kernel_size=(3,3), stride=2, padding = 1)\r\n",
    "\r\n",
    "        self.flatten = paddle.nn.Flatten()\r\n",
    "\r\n",
    "        self.linear1 = paddle.nn.Linear(in_features=1024, out_features=64)\r\n",
    "        self.linear2 = paddle.nn.Linear(in_features=64, out_features=num_classes)\r\n",
    "\r\n",
    "    def forward(self, x):\r\n",
    "        x = self.conv1(x)\r\n",
    "        x = F.relu(x)\r\n",
    "        # x = self.pool1(x)\r\n",
    "        # print(x.shape)\r\n",
    "        x = self.conv2(x)\r\n",
    "        x = F.relu(x)\r\n",
    "        # x = self.pool2(x)\r\n",
    "        # print(x.shape)\r\n",
    "\r\n",
    "        x = self.conv3(x)\r\n",
    "        x = F.relu(x)\r\n",
    "        # print(x.shape)\r\n",
    "        \r\n",
    "        offsets = self.offsets(x)\r\n",
    "        masks = self.mask(x)\r\n",
    "        # print(offsets.shape)\r\n",
    "        # print(masks.shape)\r\n",
    "        x = self.conv4(x, offsets, masks)\r\n",
    "        x = F.relu(x)\r\n",
    "        # print(x.shape)\r\n",
    "\r\n",
    "        x = self.flatten(x)\r\n",
    "        x = self.linear1(x)\r\n",
    "        x = F.relu(x)\r\n",
    "        x = self.linear2(x)\r\n",
    "        return x"
   ]
  },
  {
   "cell_type": "code",
   "execution_count": 16,
   "metadata": {
    "collapsed": false
   },
   "outputs": [
    {
     "name": "stdout",
     "output_type": "stream",
     "text": [
      "------------------------------------------------------------------------------------------------------\n",
      " Layer (type)                     Input Shape                       Output Shape         Param #    \n",
      "======================================================================================================\n",
      "   Conv2D-13                   [[64, 3, 32, 32]]                  [64, 32, 32, 32]         896      \n",
      "   Conv2D-14                  [[64, 32, 32, 32]]                  [64, 64, 15, 15]       18,496     \n",
      "   Conv2D-15                  [[64, 64, 15, 15]]                   [64, 64, 7, 7]        36,928     \n",
      "   Conv2D-16                   [[64, 64, 7, 7]]                    [64, 18, 4, 4]        10,386     \n",
      "   Conv2D-17                   [[64, 64, 7, 7]]                    [64, 9, 4, 4]          5,193     \n",
      "DeformConv2D-3  [[64, 64, 7, 7], [64, 18, 4, 4], [64, 9, 4, 4]]    [64, 64, 4, 4]        36,928     \n",
      " Flatten-3855                  [[64, 64, 4, 4]]                      [64, 1024]             0       \n",
      "   Linear-7                      [[64, 1024]]                         [64, 64]           65,600     \n",
      "   Linear-8                       [[64, 64]]                          [64, 1]              65       \n",
      "======================================================================================================\n",
      "Total params: 174,492\n",
      "Trainable params: 174,492\n",
      "Non-trainable params: 0\n",
      "------------------------------------------------------------------------------------------------------\n",
      "Input size (MB): 0.75\n",
      "Forward/backward pass size (MB): 25.81\n",
      "Params size (MB): 0.67\n",
      "Estimated Total Size (MB): 27.22\n",
      "------------------------------------------------------------------------------------------------------\n",
      "\n"
     ]
    },
    {
     "name": "stderr",
     "output_type": "stream",
     "text": [
      "/opt/conda/envs/python35-paddle120-env/lib/python3.7/site-packages/paddle/distributed/parallel.py:119: UserWarning: Currently not a parallel execution environment, `paddle.distributed.init_parallel_env` will not do anything.\n",
      "  \"Currently not a parallel execution environment, `paddle.distributed.init_parallel_env` will not do anything.\"\n"
     ]
    },
    {
     "data": {
      "text/plain": [
       "{'total_params': 174492, 'trainable_params': 174492}"
      ]
     },
     "execution_count": 16,
     "metadata": {},
     "output_type": "execute_result"
    }
   ],
   "source": [
    "cnn3 = dcn2()\r\n",
    "\r\n",
    "model3 = paddle.Model(cnn3)\r\n",
    "\r\n",
    "model3.summary((64, 3, 32, 32))"
   ]
  },
  {
   "cell_type": "code",
   "execution_count": 17,
   "metadata": {
    "collapsed": false
   },
   "outputs": [
    {
     "name": "stdout",
     "output_type": "stream",
     "text": [
      "The loss value printed in the log is the current step, and the metric is the average value of previous step.\n",
      "Epoch 1/2\n",
      "step 782/782 [==============================] - loss: 0.0000e+00 - acc: 0.1000 - 41ms/step         \n",
      "Eval begin...\n",
      "The loss value printed in the log is the current batch, and the metric is the average value of previous step.\n",
      "step 157/157 [==============================] - loss: 0.0000e+00 - acc: 0.1000 - 33ms/step        \n",
      "Eval samples: 10000\n",
      "Epoch 2/2\n",
      "step 782/782 [==============================] - loss: 0.0000e+00 - acc: 0.1000 - 43ms/step        \n",
      "Eval begin...\n",
      "The loss value printed in the log is the current batch, and the metric is the average value of previous step.\n",
      "step 157/157 [==============================] - loss: 0.0000e+00 - acc: 0.1000 - 33ms/step        \n",
      "Eval samples: 10000\n"
     ]
    }
   ],
   "source": [
    "from paddle.metric import Accuracy\r\n",
    "\r\n",
    "optim = paddle.optimizer.Adam(learning_rate=0.001, parameters=model3.parameters())\r\n",
    "\r\n",
    "# 配置模型\r\n",
    "model3.prepare(\r\n",
    "    optim,\r\n",
    "    paddle.nn.CrossEntropyLoss(),\r\n",
    "    Accuracy()\r\n",
    "    )\r\n",
    "\r\n",
    "# 训练模型\r\n",
    "model3.fit(train_data=train_loader,\r\n",
    "        eval_data=test_loader,\r\n",
    "        epochs=2,\r\n",
    "        verbose=1\r\n",
    "        )"
   ]
  },
  {
   "cell_type": "markdown",
   "metadata": {
    "collapsed": false
   },
   "source": [
    "# 三、总结\n",
    "\n",
    "\n",
    "本次项目主要对可变形卷积的两个版本进行了介绍，并对规则卷积、DCNv1、DCNv2进行了对比实验实验只迭代了两次，故并没有体现出DCN的效果来，大家可以增加迭代次数进行测试。在DCN的论文中，做实验的backbone网络是resnet50，这里只用了一个很简单的浅层网络，并且也没有使用BN等操作，可能会在未来出一个resnet的测试版本，但不保证一定更新哈。。万一没更新大家也别催我。。另外大家可以看一下DCN的论文，加油！"
   ]
  }
 ],
 "metadata": {
  "kernelspec": {
   "display_name": "PaddlePaddle 2.0.0b0 (Python 3.5)",
   "language": "python",
   "name": "py35-paddle1.2.0"
  },
  "language_info": {
   "codemirror_mode": {
    "name": "ipython",
    "version": 3
   },
   "file_extension": ".py",
   "mimetype": "text/x-python",
   "name": "python",
   "nbconvert_exporter": "python",
   "pygments_lexer": "ipython3",
   "version": "3.7.4"
  }
 },
 "nbformat": 4,
 "nbformat_minor": 1
}
